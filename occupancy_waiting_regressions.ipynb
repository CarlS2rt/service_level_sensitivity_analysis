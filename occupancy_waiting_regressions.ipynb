{
 "cells": [
  {
   "cell_type": "code",
   "execution_count": 1,
   "id": "f3b28844-9c3a-4a2f-b64a-7a85eb81aaa3",
   "metadata": {},
   "outputs": [],
   "source": [
    "import pandas as pd\n",
    "import statsmodels.api as sm\n"
   ]
  },
  {
   "cell_type": "code",
   "execution_count": 2,
   "id": "fa5f2613-3c8f-4a02-bdd1-2c1a932b8036",
   "metadata": {},
   "outputs": [],
   "source": [
    "df = pd.read_csv('service_level_erlangs.csv')\n"
   ]
  },
  {
   "cell_type": "code",
   "execution_count": 3,
   "id": "2c196b76-b5e8-4bae-bb5c-fd35652414d7",
   "metadata": {},
   "outputs": [],
   "source": [
    "df['intercept'] = 1\n",
    "independent_variables = df[['Service_Level_Actual', 'intercept']]\n"
   ]
  },
  {
   "cell_type": "code",
   "execution_count": 4,
   "id": "4ae15983-9aac-4306-9e04-e4ee85c88269",
   "metadata": {},
   "outputs": [
    {
     "name": "stdout",
     "output_type": "stream",
     "text": [
      "                            OLS Regression Results                            \n",
      "==============================================================================\n",
      "Dep. Variable:       Occupancy_Actual   R-squared:                       0.066\n",
      "Model:                            OLS   Adj. R-squared:                  0.066\n",
      "Method:                 Least Squares   F-statistic:                 4.106e+04\n",
      "Date:                Fri, 28 Jul 2023   Prob (F-statistic):               0.00\n",
      "Time:                        11:05:37   Log-Likelihood:                 34783.\n",
      "No. Observations:              581370   AIC:                        -6.956e+04\n",
      "Df Residuals:                  581368   BIC:                        -6.954e+04\n",
      "Df Model:                           1                                         \n",
      "Covariance Type:            nonrobust                                         \n",
      "========================================================================================\n",
      "                           coef    std err          t      P>|t|      [0.025      0.975]\n",
      "----------------------------------------------------------------------------------------\n",
      "Service_Level_Actual     0.3726      0.002    202.623      0.000       0.369       0.376\n",
      "intercept                0.4621      0.001    370.268      0.000       0.460       0.465\n",
      "==============================================================================\n",
      "Omnibus:                   101418.837   Durbin-Watson:                   0.309\n",
      "Prob(Omnibus):                  0.000   Jarque-Bera (JB):           163010.893\n",
      "Skew:                          -1.255   Prob(JB):                         0.00\n",
      "Kurtosis:                       3.658   Cond. No.                         8.87\n",
      "==============================================================================\n",
      "\n",
      "Notes:\n",
      "[1] Standard Errors assume that the covariance matrix of the errors is correctly specified.\n"
     ]
    }
   ],
   "source": [
    "model_occupancy = sm.OLS(df['Occupancy_Actual'], independent_variables)\n",
    "results_occupancy = model_occupancy.fit()\n",
    "print(results_occupancy.summary())\n"
   ]
  },
  {
   "cell_type": "code",
   "execution_count": 5,
   "id": "93a52e0a-62bf-4f24-886a-f4c088ff9423",
   "metadata": {},
   "outputs": [
    {
     "name": "stdout",
     "output_type": "stream",
     "text": [
      "                                 OLS Regression Results                                \n",
      "=======================================================================================\n",
      "Dep. Variable:     Waiting_Probablility_Actual   R-squared:                       0.016\n",
      "Model:                                     OLS   Adj. R-squared:                  0.016\n",
      "Method:                          Least Squares   F-statistic:                     9393.\n",
      "Date:                         Fri, 28 Jul 2023   Prob (F-statistic):               0.00\n",
      "Time:                                 11:05:37   Log-Likelihood:             4.1254e+05\n",
      "No. Observations:                       581370   AIC:                        -8.251e+05\n",
      "Df Residuals:                           581368   BIC:                        -8.251e+05\n",
      "Df Model:                                    1                                         \n",
      "Covariance Type:                     nonrobust                                         \n",
      "========================================================================================\n",
      "                           coef    std err          t      P>|t|      [0.025      0.975]\n",
      "----------------------------------------------------------------------------------------\n",
      "Service_Level_Actual     0.0931      0.001     96.920      0.000       0.091       0.095\n",
      "intercept                0.2827      0.001    433.843      0.000       0.281       0.284\n",
      "==============================================================================\n",
      "Omnibus:                    48307.955   Durbin-Watson:                   0.718\n",
      "Prob(Omnibus):                  0.000   Jarque-Bera (JB):            61360.580\n",
      "Skew:                          -0.791   Prob(JB):                         0.00\n",
      "Kurtosis:                       3.178   Cond. No.                         8.87\n",
      "==============================================================================\n",
      "\n",
      "Notes:\n",
      "[1] Standard Errors assume that the covariance matrix of the errors is correctly specified.\n"
     ]
    }
   ],
   "source": [
    "model_waiting = sm.OLS(df['Waiting_Probablility_Actual'], independent_variables)\n",
    "results_waiting = model_waiting.fit()\n",
    "print(results_waiting.summary())\n"
   ]
  },
  {
   "cell_type": "code",
   "execution_count": 6,
   "id": "1cb53a09-6003-46bb-b773-5a87a3d0a2c6",
   "metadata": {},
   "outputs": [
    {
     "name": "stdout",
     "output_type": "stream",
     "text": [
      "                                 OLS Regression Results                                \n",
      "=======================================================================================\n",
      "Dep. Variable:     Waiting_Probablility_Actual   R-squared:                       0.788\n",
      "Model:                                     OLS   Adj. R-squared:                  0.788\n",
      "Method:                          Least Squares   F-statistic:                 4.322e+05\n",
      "Date:                         Fri, 28 Jul 2023   Prob (F-statistic):               0.00\n",
      "Time:                                 11:05:38   Log-Likelihood:             8.5880e+05\n",
      "No. Observations:                       581370   AIC:                        -1.718e+06\n",
      "Df Residuals:                           581364   BIC:                        -1.718e+06\n",
      "Df Model:                                    5                                         \n",
      "Covariance Type:                     nonrobust                                         \n",
      "========================================================================================\n",
      "                           coef    std err          t      P>|t|      [0.025      0.975]\n",
      "----------------------------------------------------------------------------------------\n",
      "Intercept                0.0690      0.000    204.532      0.000       0.068       0.070\n",
      "Actual_CV                0.0005   6.31e-06     78.291      0.000       0.000       0.001\n",
      "Actual_AHT           -8.732e-06   2.81e-07    -31.034      0.000   -9.28e-06   -8.18e-06\n",
      "Actual_Required_FTE     -0.0018   1.32e-05   -133.871      0.000      -0.002      -0.002\n",
      "Service_Level_Actual    -0.0845      0.000   -175.831      0.000      -0.085      -0.084\n",
      "Occupancy_Actual         0.4941      0.001    974.204      0.000       0.493       0.495\n",
      "==============================================================================\n",
      "Omnibus:                    61899.353   Durbin-Watson:                   1.354\n",
      "Prob(Omnibus):                  0.000   Jarque-Bera (JB):            98680.040\n",
      "Skew:                           0.774   Prob(JB):                         0.00\n",
      "Kurtosis:                       4.296   Cond. No.                     6.14e+03\n",
      "==============================================================================\n",
      "\n",
      "Notes:\n",
      "[1] Standard Errors assume that the covariance matrix of the errors is correctly specified.\n",
      "[2] The condition number is large, 6.14e+03. This might indicate that there are\n",
      "strong multicollinearity or other numerical problems.\n"
     ]
    }
   ],
   "source": [
    "import statsmodels.formula.api as smf\n",
    "\n",
    "# Assuming \"df\" is your DataFrame\n",
    "model = smf.ols(formula=\"Waiting_Probablility_Actual ~ Actual_CV + Actual_AHT + Actual_Required_FTE + Service_Level_Actual + Occupancy_Actual\", data=df)\n",
    "results_waiting_multi = model.fit()\n",
    "\n",
    "# Print out the statistics\n",
    "print(results_waiting_multi.summary())\n"
   ]
  },
  {
   "cell_type": "code",
   "execution_count": 7,
   "id": "f0426dbb-6a37-4096-83e7-db0a4eae4e23",
   "metadata": {},
   "outputs": [
    {
     "name": "stdout",
     "output_type": "stream",
     "text": [
      "                            OLS Regression Results                            \n",
      "==============================================================================\n",
      "Dep. Variable:       Occupancy_Actual   R-squared:                       0.861\n",
      "Model:                            OLS   Adj. R-squared:                  0.861\n",
      "Method:                 Least Squares   F-statistic:                 7.183e+05\n",
      "Date:                Fri, 28 Jul 2023   Prob (F-statistic):               0.00\n",
      "Time:                        11:05:39   Log-Likelihood:             5.8788e+05\n",
      "No. Observations:              581370   AIC:                        -1.176e+06\n",
      "Df Residuals:                  581364   BIC:                        -1.176e+06\n",
      "Df Model:                           5                                         \n",
      "Covariance Type:            nonrobust                                         \n",
      "===============================================================================================\n",
      "                                  coef    std err          t      P>|t|      [0.025      0.975]\n",
      "-----------------------------------------------------------------------------------------------\n",
      "Intercept                      -0.0061      0.001    -11.029      0.000      -0.007      -0.005\n",
      "Actual_CV                       0.0014   9.94e-06    145.688      0.000       0.001       0.001\n",
      "Actual_AHT                      0.0001   4.27e-07    248.893      0.000       0.000       0.000\n",
      "Actual_Required_FTE             0.0017   2.12e-05     82.190      0.000       0.002       0.002\n",
      "Service_Level_Actual            0.1974      0.001    265.892      0.000       0.196       0.199\n",
      "Waiting_Probablility_Actual     1.2550      0.001    974.204      0.000       1.252       1.257\n",
      "==============================================================================\n",
      "Omnibus:                   222463.125   Durbin-Watson:                   0.877\n",
      "Prob(Omnibus):                  0.000   Jarque-Bera (JB):          2302048.872\n",
      "Skew:                          -1.550   Prob(JB):                         0.00\n",
      "Kurtosis:                      12.242   Cond. No.                     9.00e+03\n",
      "==============================================================================\n",
      "\n",
      "Notes:\n",
      "[1] Standard Errors assume that the covariance matrix of the errors is correctly specified.\n",
      "[2] The condition number is large,  9e+03. This might indicate that there are\n",
      "strong multicollinearity or other numerical problems.\n"
     ]
    }
   ],
   "source": [
    "# Assuming \"df\" is your DataFrame\n",
    "model = smf.ols(formula=\"Occupancy_Actual ~ Actual_CV + Actual_AHT + Actual_Required_FTE + Service_Level_Actual + Waiting_Probablility_Actual\", data=df)\n",
    "results_occupancy_multi = model.fit()\n",
    "\n",
    "# Print out the statistics\n",
    "print(results_occupancy_multi.summary())\n"
   ]
  },
  {
   "cell_type": "code",
   "execution_count": 8,
   "id": "c4736fc9-269d-4a15-bbe8-4f9308123a70",
   "metadata": {},
   "outputs": [
    {
     "name": "stdout",
     "output_type": "stream",
     "text": [
      "                             OLS Regression Results                             \n",
      "================================================================================\n",
      "Dep. Variable:     Service_Level_Actual   R-squared:                       0.184\n",
      "Model:                              OLS   Adj. R-squared:                  0.184\n",
      "Method:                   Least Squares   F-statistic:                 2.629e+04\n",
      "Date:                  Fri, 28 Jul 2023   Prob (F-statistic):               0.00\n",
      "Time:                          11:05:39   Log-Likelihood:             2.9044e+05\n",
      "No. Observations:                581370   AIC:                        -5.809e+05\n",
      "Df Residuals:                    581364   BIC:                        -5.808e+05\n",
      "Df Model:                             5                                         \n",
      "Covariance Type:              nonrobust                                         \n",
      "===============================================================================================\n",
      "                                  coef    std err          t      P>|t|      [0.025      0.975]\n",
      "-----------------------------------------------------------------------------------------------\n",
      "Intercept                       0.4926      0.001    738.692      0.000       0.491       0.494\n",
      "Actual_CV                       0.0004   1.69e-05     26.186      0.000       0.000       0.000\n",
      "Actual_AHT                   6.784e-05   7.43e-07     91.276      0.000    6.64e-05    6.93e-05\n",
      "Actual_Required_FTE            -0.0047   3.51e-05   -134.324      0.000      -0.005      -0.005\n",
      "Occupancy_Actual                0.5492      0.002    265.892      0.000       0.545       0.553\n",
      "Waiting_Probablility_Actual    -0.5973      0.003   -175.831      0.000      -0.604      -0.591\n",
      "==============================================================================\n",
      "Omnibus:                   110865.595   Durbin-Watson:                   1.535\n",
      "Prob(Omnibus):                  0.000   Jarque-Bera (JB):           766721.662\n",
      "Skew:                          -0.744   Prob(JB):                         0.00\n",
      "Kurtosis:                       8.425   Cond. No.                     1.56e+04\n",
      "==============================================================================\n",
      "\n",
      "Notes:\n",
      "[1] Standard Errors assume that the covariance matrix of the errors is correctly specified.\n",
      "[2] The condition number is large, 1.56e+04. This might indicate that there are\n",
      "strong multicollinearity or other numerical problems.\n"
     ]
    }
   ],
   "source": [
    "# Assuming \"df\" is your DataFrame\n",
    "model = smf.ols(formula=\"Service_Level_Actual ~ Actual_CV + Actual_AHT + Actual_Required_FTE + Occupancy_Actual + Waiting_Probablility_Actual\", data=df)\n",
    "results_sl_multi = model.fit()\n",
    "\n",
    "# Print out the statistics\n",
    "print(results_sl_multi.summary())"
   ]
  },
  {
   "cell_type": "code",
   "execution_count": 9,
   "id": "e465fcb6-e4a3-4472-a73a-132cf8732d7c",
   "metadata": {},
   "outputs": [
    {
     "name": "stdout",
     "output_type": "stream",
     "text": [
      "                             OLS Regression Results                            \n",
      "===============================================================================\n",
      "Dep. Variable:     Actual_Required_FTE   R-squared:                       0.088\n",
      "Model:                             OLS   Adj. R-squared:                  0.088\n",
      "Method:                  Least Squares   F-statistic:                 5.632e+04\n",
      "Date:                 Fri, 28 Jul 2023   Prob (F-statistic):               0.00\n",
      "Time:                         11:05:39   Log-Likelihood:            -2.3386e+06\n",
      "No. Observations:               581370   AIC:                         4.677e+06\n",
      "Df Residuals:                   581368   BIC:                         4.677e+06\n",
      "Df Model:                            1                                         \n",
      "Covariance Type:             nonrobust                                         \n",
      "==============================================================================\n",
      "                 coef    std err          t      P>|t|      [0.025      0.975]\n",
      "------------------------------------------------------------------------------\n",
      "const          9.0114      0.037    243.317      0.000       8.939       9.084\n",
      "Actual_AHT     0.0111   4.68e-05    237.327      0.000       0.011       0.011\n",
      "==============================================================================\n",
      "Omnibus:                   469098.637   Durbin-Watson:                   0.246\n",
      "Prob(Omnibus):                  0.000   Jarque-Bera (JB):        105438895.578\n",
      "Skew:                           3.017   Prob(JB):                         0.00\n",
      "Kurtosis:                      68.699   Cond. No.                     1.65e+03\n",
      "==============================================================================\n",
      "\n",
      "Notes:\n",
      "[1] Standard Errors assume that the covariance matrix of the errors is correctly specified.\n",
      "[2] The condition number is large, 1.65e+03. This might indicate that there are\n",
      "strong multicollinearity or other numerical problems.\n"
     ]
    }
   ],
   "source": [
    "X = df['Actual_AHT']  # independent variable\n",
    "y = df['Actual_Required_FTE']  # dependent variable\n",
    "\n",
    "# Add a constant to the independent variable\n",
    "X = sm.add_constant(X)\n",
    "\n",
    "# Run the regression\n",
    "model = sm.OLS(y, X)\n",
    "results = model.fit()\n",
    "\n",
    "print(results.summary())\n"
   ]
  },
  {
   "cell_type": "code",
   "execution_count": 10,
   "id": "2436fd04-2820-471b-97b0-ad879401baab",
   "metadata": {},
   "outputs": [
    {
     "name": "stdout",
     "output_type": "stream",
     "text": [
      "                             OLS Regression Results                            \n",
      "===============================================================================\n",
      "Dep. Variable:     Actual_Required_FTE   R-squared:                       0.845\n",
      "Model:                             OLS   Adj. R-squared:                  0.845\n",
      "Method:                  Least Squares   F-statistic:                 1.588e+06\n",
      "Date:                 Fri, 28 Jul 2023   Prob (F-statistic):               0.00\n",
      "Time:                         11:08:25   Log-Likelihood:            -1.8230e+06\n",
      "No. Observations:               581370   AIC:                         3.646e+06\n",
      "Df Residuals:                   581367   BIC:                         3.646e+06\n",
      "Df Model:                            2                                         \n",
      "Covariance Type:             nonrobust                                         \n",
      "==============================================================================\n",
      "                 coef    std err          t      P>|t|      [0.025      0.975]\n",
      "------------------------------------------------------------------------------\n",
      "const         -4.3649      0.017   -253.827      0.000      -4.399      -4.331\n",
      "Actual_CV      0.3936      0.000   1686.399      0.000       0.393       0.394\n",
      "Actual_AHT     0.0112   1.93e-05    581.719      0.000       0.011       0.011\n",
      "==============================================================================\n",
      "Omnibus:                   558570.944   Durbin-Watson:                   0.708\n",
      "Prob(Omnibus):                  0.000   Jarque-Bera (JB):        682709707.990\n",
      "Skew:                           3.603   Prob(JB):                         0.00\n",
      "Kurtosis:                     170.725   Cond. No.                     1.87e+03\n",
      "==============================================================================\n",
      "\n",
      "Notes:\n",
      "[1] Standard Errors assume that the covariance matrix of the errors is correctly specified.\n",
      "[2] The condition number is large, 1.87e+03. This might indicate that there are\n",
      "strong multicollinearity or other numerical problems.\n"
     ]
    }
   ],
   "source": [
    "# Create your independent variables dataframe\n",
    "X = df[['Actual_CV', 'Actual_AHT']]\n",
    "\n",
    "# Add a constant (intercept term) to the independent variables\n",
    "X = sm.add_constant(X)\n",
    "\n",
    "# Create your dependent variable series\n",
    "y = df['Actual_Required_FTE']\n",
    "\n",
    "# Create the model\n",
    "model = sm.OLS(y, X)\n",
    "\n",
    "# Fit the model\n",
    "results = model.fit()\n",
    "\n",
    "# Print the results\n",
    "print(results.summary())\n"
   ]
  },
  {
   "cell_type": "code",
   "execution_count": 11,
   "id": "7f38a8b6-356f-4e1b-b26f-ccbdfa00f5a5",
   "metadata": {},
   "outputs": [],
   "source": [
    "df['Workload_Minutes'] = df['Actual_CV'] * df['Actual_AHT'] / 60"
   ]
  },
  {
   "cell_type": "code",
   "execution_count": 12,
   "id": "2ee83eff-c669-42ce-8fcd-aaf12b80bf54",
   "metadata": {},
   "outputs": [
    {
     "name": "stdout",
     "output_type": "stream",
     "text": [
      "                             OLS Regression Results                            \n",
      "===============================================================================\n",
      "Dep. Variable:     Actual_Required_FTE   R-squared:                       0.998\n",
      "Model:                             OLS   Adj. R-squared:                  0.998\n",
      "Method:                  Least Squares   F-statistic:                 2.496e+08\n",
      "Date:                 Fri, 28 Jul 2023   Prob (F-statistic):               0.00\n",
      "Time:                         11:11:21   Log-Likelihood:            -6.0255e+05\n",
      "No. Observations:               581370   AIC:                         1.205e+06\n",
      "Df Residuals:                   581368   BIC:                         1.205e+06\n",
      "Df Model:                            1                                         \n",
      "Covariance Type:             nonrobust                                         \n",
      "====================================================================================\n",
      "                       coef    std err          t      P>|t|      [0.025      0.975]\n",
      "------------------------------------------------------------------------------------\n",
      "const                2.1242      0.001   1651.229      0.000       2.122       2.127\n",
      "Workload_Minutes     0.0374   2.37e-06   1.58e+04      0.000       0.037       0.037\n",
      "==============================================================================\n",
      "Omnibus:                   442005.659   Durbin-Watson:                   1.099\n",
      "Prob(Omnibus):                  0.000   Jarque-Bera (JB):         69740568.578\n",
      "Skew:                          -2.822   Prob(JB):                         0.00\n",
      "Kurtosis:                      56.359   Cond. No.                         782.\n",
      "==============================================================================\n",
      "\n",
      "Notes:\n",
      "[1] Standard Errors assume that the covariance matrix of the errors is correctly specified.\n"
     ]
    }
   ],
   "source": [
    "X = df['Workload_Minutes']  # independent variable\n",
    "y = df['Actual_Required_FTE']  # dependent variable\n",
    "\n",
    "# Add a constant to the independent variable\n",
    "X = sm.add_constant(X)\n",
    "\n",
    "# Run the regression\n",
    "model = sm.OLS(y, X)\n",
    "results = model.fit()\n",
    "\n",
    "print(results.summary())"
   ]
  },
  {
   "cell_type": "code",
   "execution_count": null,
   "id": "0d8eeb95-6a30-49b5-b74f-84d3d44bd887",
   "metadata": {},
   "outputs": [],
   "source": []
  }
 ],
 "metadata": {
  "kernelspec": {
   "display_name": "Python 3 (ipykernel)",
   "language": "python",
   "name": "python3"
  },
  "language_info": {
   "codemirror_mode": {
    "name": "ipython",
    "version": 3
   },
   "file_extension": ".py",
   "mimetype": "text/x-python",
   "name": "python",
   "nbconvert_exporter": "python",
   "pygments_lexer": "ipython3",
   "version": "3.9.12"
  }
 },
 "nbformat": 4,
 "nbformat_minor": 5
}
