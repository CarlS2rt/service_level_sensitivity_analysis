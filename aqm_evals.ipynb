{
 "cells": [
  {
   "cell_type": "code",
   "execution_count": 1,
   "id": "8a589ae1-d41a-4e44-ac52-145274a82629",
   "metadata": {},
   "outputs": [],
   "source": [
    "import pandas as pd\n",
    "import cx_Oracle\n",
    "from config import oracle_wfm_key\n",
    "from config import oracle_ods_key\n",
    "from sqlalchemy.types import String\n",
    "from tqdm import tqdm\n",
    "from datetime import datetime\n",
    "import datetime as dt\n",
    "import databases as db"
   ]
  },
  {
   "cell_type": "code",
   "execution_count": 2,
   "id": "5fe4566d-e01c-4530-8fd7-3772dc3c2e14",
   "metadata": {},
   "outputs": [],
   "source": [
    "ods = db.oracle('usrocu_support',oracle_ods_key)\n",
    "\n",
    "start = dt.date.today() - dt.timedelta(days=60)\n",
    "start = dt.date.today() - dt.timedelta(days=60)\n",
    "\n",
    "# Construct the query using parameter binding\n",
    "query = '''\n",
    "    SELECT *\n",
    "    FROM CCO_OBJECTS.QCC_REVIEW\n",
    "    WHERE INSERT_USER = :insert_user AND SCORE_DATE >= :start_date\n",
    "'''\n",
    "\n",
    "# Execute the query and load the result into a DataFrame\n",
    "aqm = pd.read_sql(query, ods, params={'insert_user': 'AQM IMPORT', 'start_date': start})"
   ]
  },
  {
   "cell_type": "code",
   "execution_count": 3,
   "id": "dfb4493a-c3c3-40ff-9b6b-cefce05c80bd",
   "metadata": {},
   "outputs": [],
   "source": [
    "verint = db.ssms()\n",
    "ee = '''select \n",
    "            EmployeeName,\n",
    "            EmployeeID as employeeID,\n",
    "            City, \n",
    "            StateName as State,\n",
    "            Country\n",
    "        from V_AdHoc_EmployeeContacts\n",
    "        where (USERNAME = 'satverintfirstlogon'\n",
    "            AND ContactMethod = 'PopupAddress')'''\n",
    "ee_df = pd.read_sql(ee,verint)"
   ]
  },
  {
   "cell_type": "code",
   "execution_count": 4,
   "id": "08c17c72-dc5b-4444-becb-92cdfd9bcf9d",
   "metadata": {},
   "outputs": [],
   "source": [
    "ods = db.oracle('usrocu_support',oracle_ods_key)\n",
    "location = f'''select\n",
    "                \"A\".\"AGENT_USER_ID\" \"usr\",\n",
    "                \"A\".\"LOCATION\"\n",
    "            from \"CCO_OBJECTS\".\"BPO_USER_LOCATION\" \"A\"'''\n",
    "location_df = pd.read_sql(location,ods)\n",
    "location_df['usr'] = location_df['usr'].str.lower()\n",
    "usr = f'''select distinct EmployeeID as employeeID,\n",
    "                ExternalEmpIdent as usr\n",
    "        from V_AdHoc_EmployeeDataSource\n",
    "        where DataSourceID = 1'''\n",
    "usr_df = pd.read_sql(usr,verint)\n",
    "usr_df['usr'] = usr_df['usr'].str.lower()"
   ]
  },
  {
   "cell_type": "code",
   "execution_count": 5,
   "id": "21ca73f1-7c47-4767-878d-ea62410adf33",
   "metadata": {},
   "outputs": [
    {
     "data": {
      "text/html": [
       "<div>\n",
       "<style scoped>\n",
       "    .dataframe tbody tr th:only-of-type {\n",
       "        vertical-align: middle;\n",
       "    }\n",
       "\n",
       "    .dataframe tbody tr th {\n",
       "        vertical-align: top;\n",
       "    }\n",
       "\n",
       "    .dataframe thead th {\n",
       "        text-align: right;\n",
       "    }\n",
       "</style>\n",
       "<table border=\"1\" class=\"dataframe\">\n",
       "  <thead>\n",
       "    <tr style=\"text-align: right;\">\n",
       "      <th></th>\n",
       "      <th>EmployeeName</th>\n",
       "      <th>employeeID</th>\n",
       "      <th>usr</th>\n",
       "    </tr>\n",
       "  </thead>\n",
       "  <tbody>\n",
       "    <tr>\n",
       "      <th>0</th>\n",
       "      <td>Hunter, Liz</td>\n",
       "      <td>1</td>\n",
       "      <td>usresh</td>\n",
       "    </tr>\n",
       "    <tr>\n",
       "      <th>1</th>\n",
       "      <td>Tarantino, Sarah</td>\n",
       "      <td>2</td>\n",
       "      <td>usrspo</td>\n",
       "    </tr>\n",
       "    <tr>\n",
       "      <th>2</th>\n",
       "      <td>Test, Test</td>\n",
       "      <td>3</td>\n",
       "      <td>satverintwrkoptmgmt</td>\n",
       "    </tr>\n",
       "    <tr>\n",
       "      <th>3</th>\n",
       "      <td>Propson, Julie</td>\n",
       "      <td>60</td>\n",
       "      <td>usranc</td>\n",
       "    </tr>\n",
       "    <tr>\n",
       "      <th>4</th>\n",
       "      <td>Mikkelson, Greg</td>\n",
       "      <td>61</td>\n",
       "      <td>usrgih</td>\n",
       "    </tr>\n",
       "  </tbody>\n",
       "</table>\n",
       "</div>"
      ],
      "text/plain": [
       "       EmployeeName  employeeID                  usr\n",
       "0       Hunter, Liz           1               usresh\n",
       "1  Tarantino, Sarah           2               usrspo\n",
       "2        Test, Test           3  satverintwrkoptmgmt\n",
       "3    Propson, Julie          60               usranc\n",
       "4   Mikkelson, Greg          61               usrgih"
      ]
     },
     "execution_count": 5,
     "metadata": {},
     "output_type": "execute_result"
    }
   ],
   "source": [
    "employees = ee_df[['EmployeeName','employeeID']]\n",
    "employees = employees.merge(usr_df, on='employeeID', how='left')\n",
    "employees.head()"
   ]
  },
  {
   "cell_type": "code",
   "execution_count": 6,
   "id": "9b55ebe9-e22a-402f-97f9-cc615628ce78",
   "metadata": {},
   "outputs": [
    {
     "name": "stdout",
     "output_type": "stream",
     "text": [
      "coach_tso_user   score_date  agent_tso_user \n",
      "TELECOM\\\\USRNHZ  2023-05-01  TELECOM\\\\dmull1    6\n",
      "                             TELECOM\\\\ncurr1    6\n",
      "                             TELECOM\\\\nlevy1    7\n",
      "                             TELECOM\\\\spalm2    8\n",
      "                             TELECOM\\\\usrnpu    6\n",
      "                                               ..\n",
      "TELECOM\\\\usrzwz  2023-07-01  TELECOM\\\\usrqkp    4\n",
      "                             TELECOM\\\\usrwqj    1\n",
      "                             TELECOM\\\\usrwtn    5\n",
      "                             TELECOM\\\\wblis1    4\n",
      "                             TELECOM\\\\zburr1    4\n",
      "Name: aqm_review_id, Length: 2382, dtype: int64\n"
     ]
    }
   ],
   "source": [
    "# Group by 'coach_tso_user', 'agent_tso_user', and the month of 'score_date'\n",
    "count_by_coach_agent_month = aqm.groupby(['coach_tso_user', pd.Grouper(key='score_date', freq='MS'), 'agent_tso_user'])['aqm_review_id'].count()\n",
    "\n",
    "print(count_by_coach_agent_month)"
   ]
  },
  {
   "cell_type": "code",
   "execution_count": 7,
   "id": "0b2e94cc-cdbc-47d7-9488-396abae403f3",
   "metadata": {},
   "outputs": [
    {
     "name": "stdout",
     "output_type": "stream",
     "text": [
      "       coach      month   agent agent_usr  aqm_evals\n",
      "0     usrnhz 2023-05-01  dmull1    dmull1          6\n",
      "1     usrnhz 2023-05-01  ncurr1    ncurr1          6\n",
      "2     usrnhz 2023-05-01  nlevy1    nlevy1          7\n",
      "3     usrnhz 2023-05-01  spalm2    spalm2          8\n",
      "4     usrnhz 2023-05-01  usrnpu    usrnpu          6\n",
      "...      ...        ...     ...       ...        ...\n",
      "2377  usrzwz 2023-07-01  usrqkp    usrqkp          4\n",
      "2378  usrzwz 2023-07-01  usrwqj    usrwqj          1\n",
      "2379  usrzwz 2023-07-01  usrwtn    usrwtn          5\n",
      "2380  usrzwz 2023-07-01  wblis1    wblis1          4\n",
      "2381  usrzwz 2023-07-01  zburr1    zburr1          4\n",
      "\n",
      "[2382 rows x 5 columns]\n"
     ]
    },
    {
     "name": "stderr",
     "output_type": "stream",
     "text": [
      "C:\\Users\\usrocu\\AppData\\Local\\Temp\\ipykernel_4872\\1188471978.py:8: FutureWarning: The default value of regex will change from True to False in a future version.\n",
      "  df_count['coach_tso_user'] = df_count['coach_tso_user'].str.replace(r'telecom\\\\\\\\', '')\n",
      "C:\\Users\\usrocu\\AppData\\Local\\Temp\\ipykernel_4872\\1188471978.py:9: FutureWarning: The default value of regex will change from True to False in a future version.\n",
      "  df_count['agent_tso_user'] = df_count['agent_tso_user'].str.replace(r'telecom\\\\\\\\', '')\n"
     ]
    }
   ],
   "source": [
    "# Reset the index to convert the Series into a DataFrame\n",
    "df_count = count_by_coach_agent_month.reset_index()\n",
    "\n",
    "# Convert all string columns to lowercase\n",
    "df_count = df_count.apply(lambda x: x.str.lower() if x.dtype == 'object' else x)\n",
    "\n",
    "# Remove \"telecom\\\\\" from coach_tso_user and agent_tso_user columns\n",
    "df_count['coach_tso_user'] = df_count['coach_tso_user'].str.replace(r'telecom\\\\\\\\', '')\n",
    "df_count['agent_tso_user'] = df_count['agent_tso_user'].str.replace(r'telecom\\\\\\\\', '')\n",
    "\n",
    "df_count['agent_usr'] = df_count['agent_tso_user']\n",
    "df_count = df_count[['coach_tso_user', 'score_date', 'agent_tso_user', 'agent_usr',  'aqm_review_id']]\n",
    "df_count.columns = ['coach','month','agent','agent_usr','aqm_evals']\n",
    "print(df_count)"
   ]
  },
  {
   "cell_type": "code",
   "execution_count": 8,
   "id": "ccf57d24-6645-429d-a033-bda1f0df0237",
   "metadata": {},
   "outputs": [],
   "source": [
    "merged_df = df_count.merge(employees[['EmployeeName', 'usr']], left_on='coach', right_on='usr', how='left')\n",
    "df_count['coach'] = merged_df['EmployeeName']\n",
    "\n",
    "merged_df = df_count.merge(employees[['EmployeeName', 'usr']], left_on='agent', right_on='usr', how='left')\n",
    "df_count['agent'] = merged_df['EmployeeName']"
   ]
  },
  {
   "cell_type": "code",
   "execution_count": 9,
   "id": "8c22066f-6224-4122-83c5-205f06d891cd",
   "metadata": {},
   "outputs": [
    {
     "name": "stdout",
     "output_type": "stream",
     "text": [
      "                 coach      month               agent agent_usr  aqm_evals\n",
      "0     Atherton, Aneita 2023-05-01    Mullings, Dwayne    dmull1          6\n",
      "1     Atherton, Aneita 2023-05-01    Currie, Nickesha    ncurr1          6\n",
      "2     Atherton, Aneita 2023-05-01                 NaN    nlevy1          7\n",
      "3     Atherton, Aneita 2023-05-01                 NaN    spalm2          8\n",
      "4     Atherton, Aneita 2023-05-01    McDonald, Kadeem    usrnpu          6\n",
      "...                ...        ...                 ...       ...        ...\n",
      "2377    Baker, Pejouri 2023-07-01  Campbell, Shereika    usrqkp          4\n",
      "2378    Baker, Pejouri 2023-07-01       Cooke, Janell    usrwqj          1\n",
      "2379    Baker, Pejouri 2023-07-01    Pearson, Sheldon    usrwtn          5\n",
      "2380    Baker, Pejouri 2023-07-01    Blisset, Whitney    wblis1          4\n",
      "2381    Baker, Pejouri 2023-07-01      Burrey, Zakiya    zburr1          4\n",
      "\n",
      "[2382 rows x 5 columns]\n"
     ]
    }
   ],
   "source": [
    "print(df_count)"
   ]
  },
  {
   "cell_type": "code",
   "execution_count": 10,
   "id": "01981357-ab54-482e-8db1-ca05c7841d73",
   "metadata": {},
   "outputs": [],
   "source": [
    "ods = db.oracle('cco_wfm',oracle_wfm_key)\n",
    "drop = f'''drop table \"CCO_WFM\".\"AQM_Evals\"'''\n",
    "delete = f'''delete from \"CCO_WFM\".\"AQM_Evals\" where \"MONTH\" >= TO_DATE('{start.strftime('%Y-%m-%d')}', 'YYYY-MM-DD')'''\n",
    "with ods as conn:\n",
    "    conn.execute(delete)"
   ]
  },
  {
   "cell_type": "code",
   "execution_count": 11,
   "id": "d1953936-7848-456d-81f0-368f6751c888",
   "metadata": {
    "tags": []
   },
   "outputs": [
    {
     "data": {
      "text/plain": [
       "2382"
      ]
     },
     "execution_count": 11,
     "metadata": {},
     "output_type": "execute_result"
    }
   ],
   "source": [
    "ods = db.oracle('cco_wfm',oracle_wfm_key)\n",
    "cols = df_count.dtypes[df_count.dtypes=='object'].index\n",
    "type_mapping = {col : String(100) for col in cols }\n",
    "df_count.to_sql('AQM_Evals',con=ods,schema='CCO_WFM',if_exists='append',index=False,chunksize=10**4,dtype=type_mapping)"
   ]
  },
  {
   "cell_type": "code",
   "execution_count": 12,
   "id": "1a8e0726-4831-42f1-882c-8d09b3e9ea21",
   "metadata": {},
   "outputs": [
    {
     "name": "stdout",
     "output_type": "stream",
     "text": [
      "<class 'pandas.core.frame.DataFrame'>\n",
      "RangeIndex: 2382 entries, 0 to 2381\n",
      "Data columns (total 5 columns):\n",
      " #   Column     Non-Null Count  Dtype         \n",
      "---  ------     --------------  -----         \n",
      " 0   coach      2340 non-null   object        \n",
      " 1   month      2382 non-null   datetime64[ns]\n",
      " 2   agent      2143 non-null   object        \n",
      " 3   agent_usr  2382 non-null   object        \n",
      " 4   aqm_evals  2382 non-null   int64         \n",
      "dtypes: datetime64[ns](1), int64(1), object(3)\n",
      "memory usage: 93.2+ KB\n"
     ]
    }
   ],
   "source": [
    "df_count.info()"
   ]
  },
  {
   "cell_type": "code",
   "execution_count": 13,
   "id": "f2b7fdf9-6c73-4787-b57b-80d6aaf90d79",
   "metadata": {},
   "outputs": [
    {
     "data": {
      "text/html": [
       "<div>\n",
       "<style scoped>\n",
       "    .dataframe tbody tr th:only-of-type {\n",
       "        vertical-align: middle;\n",
       "    }\n",
       "\n",
       "    .dataframe tbody tr th {\n",
       "        vertical-align: top;\n",
       "    }\n",
       "\n",
       "    .dataframe thead th {\n",
       "        text-align: right;\n",
       "    }\n",
       "</style>\n",
       "<table border=\"1\" class=\"dataframe\">\n",
       "  <thead>\n",
       "    <tr style=\"text-align: right;\">\n",
       "      <th></th>\n",
       "      <th>coach</th>\n",
       "      <th>month</th>\n",
       "      <th>agent</th>\n",
       "      <th>agent_usr</th>\n",
       "      <th>aqm_evals</th>\n",
       "    </tr>\n",
       "  </thead>\n",
       "  <tbody>\n",
       "    <tr>\n",
       "      <th>33</th>\n",
       "      <td>Lewis, Tishantay</td>\n",
       "      <td>2023-07-01</td>\n",
       "      <td>Bailey, Anecia</td>\n",
       "      <td>abail1</td>\n",
       "      <td>2</td>\n",
       "    </tr>\n",
       "    <tr>\n",
       "      <th>34</th>\n",
       "      <td>Lewis, Tishantay</td>\n",
       "      <td>2023-07-01</td>\n",
       "      <td>Joseph, Alickcia</td>\n",
       "      <td>ajose1</td>\n",
       "      <td>4</td>\n",
       "    </tr>\n",
       "    <tr>\n",
       "      <th>35</th>\n",
       "      <td>Lewis, Tishantay</td>\n",
       "      <td>2023-07-01</td>\n",
       "      <td>Clovis, Cheryl</td>\n",
       "      <td>cclov1</td>\n",
       "      <td>2</td>\n",
       "    </tr>\n",
       "    <tr>\n",
       "      <th>36</th>\n",
       "      <td>Lewis, Tishantay</td>\n",
       "      <td>2023-07-01</td>\n",
       "      <td>NaN</td>\n",
       "      <td>iserv1</td>\n",
       "      <td>2</td>\n",
       "    </tr>\n",
       "    <tr>\n",
       "      <th>37</th>\n",
       "      <td>Lewis, Tishantay</td>\n",
       "      <td>2023-07-01</td>\n",
       "      <td>Louisy, Joella</td>\n",
       "      <td>jloui1</td>\n",
       "      <td>5</td>\n",
       "    </tr>\n",
       "    <tr>\n",
       "      <th>38</th>\n",
       "      <td>Lewis, Tishantay</td>\n",
       "      <td>2023-07-01</td>\n",
       "      <td>Montoute, Jamie</td>\n",
       "      <td>jmont1</td>\n",
       "      <td>2</td>\n",
       "    </tr>\n",
       "    <tr>\n",
       "      <th>39</th>\n",
       "      <td>Lewis, Tishantay</td>\n",
       "      <td>2023-07-01</td>\n",
       "      <td>Flavier, Nolan</td>\n",
       "      <td>nflav1</td>\n",
       "      <td>2</td>\n",
       "    </tr>\n",
       "    <tr>\n",
       "      <th>40</th>\n",
       "      <td>Lewis, Tishantay</td>\n",
       "      <td>2023-07-01</td>\n",
       "      <td>Taylor, Niyoka</td>\n",
       "      <td>ntayl1</td>\n",
       "      <td>2</td>\n",
       "    </tr>\n",
       "    <tr>\n",
       "      <th>41</th>\n",
       "      <td>Lewis, Tishantay</td>\n",
       "      <td>2023-07-01</td>\n",
       "      <td>Mathurin, Peter</td>\n",
       "      <td>pmath1</td>\n",
       "      <td>2</td>\n",
       "    </tr>\n",
       "    <tr>\n",
       "      <th>42</th>\n",
       "      <td>Lewis, Tishantay</td>\n",
       "      <td>2023-07-01</td>\n",
       "      <td>Poyser , Rayaun</td>\n",
       "      <td>rpoys1</td>\n",
       "      <td>2</td>\n",
       "    </tr>\n",
       "    <tr>\n",
       "      <th>43</th>\n",
       "      <td>Lewis, Tishantay</td>\n",
       "      <td>2023-07-01</td>\n",
       "      <td>NaN</td>\n",
       "      <td>swill5</td>\n",
       "      <td>2</td>\n",
       "    </tr>\n",
       "    <tr>\n",
       "      <th>44</th>\n",
       "      <td>Lewis, Tishantay</td>\n",
       "      <td>2023-07-01</td>\n",
       "      <td>Doeman, Tessanique</td>\n",
       "      <td>tdoem1</td>\n",
       "      <td>2</td>\n",
       "    </tr>\n",
       "    <tr>\n",
       "      <th>45</th>\n",
       "      <td>Lewis, Tishantay</td>\n",
       "      <td>2023-07-01</td>\n",
       "      <td>Mitchell, Sandsea</td>\n",
       "      <td>usrftz</td>\n",
       "      <td>5</td>\n",
       "    </tr>\n",
       "    <tr>\n",
       "      <th>46</th>\n",
       "      <td>Lewis, Tishantay</td>\n",
       "      <td>2023-07-01</td>\n",
       "      <td>Harris, Latoya</td>\n",
       "      <td>usrnkv</td>\n",
       "      <td>2</td>\n",
       "    </tr>\n",
       "    <tr>\n",
       "      <th>47</th>\n",
       "      <td>Lewis, Tishantay</td>\n",
       "      <td>2023-07-01</td>\n",
       "      <td>Barnett, Mikeat</td>\n",
       "      <td>usrnoz</td>\n",
       "      <td>5</td>\n",
       "    </tr>\n",
       "    <tr>\n",
       "      <th>48</th>\n",
       "      <td>Lewis, Tishantay</td>\n",
       "      <td>2023-07-01</td>\n",
       "      <td>Faucher, Tana</td>\n",
       "      <td>usrppf</td>\n",
       "      <td>2</td>\n",
       "    </tr>\n",
       "  </tbody>\n",
       "</table>\n",
       "</div>"
      ],
      "text/plain": [
       "               coach      month               agent agent_usr  aqm_evals\n",
       "33  Lewis, Tishantay 2023-07-01      Bailey, Anecia    abail1          2\n",
       "34  Lewis, Tishantay 2023-07-01    Joseph, Alickcia    ajose1          4\n",
       "35  Lewis, Tishantay 2023-07-01      Clovis, Cheryl    cclov1          2\n",
       "36  Lewis, Tishantay 2023-07-01                 NaN    iserv1          2\n",
       "37  Lewis, Tishantay 2023-07-01      Louisy, Joella    jloui1          5\n",
       "38  Lewis, Tishantay 2023-07-01     Montoute, Jamie    jmont1          2\n",
       "39  Lewis, Tishantay 2023-07-01      Flavier, Nolan    nflav1          2\n",
       "40  Lewis, Tishantay 2023-07-01      Taylor, Niyoka    ntayl1          2\n",
       "41  Lewis, Tishantay 2023-07-01     Mathurin, Peter    pmath1          2\n",
       "42  Lewis, Tishantay 2023-07-01     Poyser , Rayaun    rpoys1          2\n",
       "43  Lewis, Tishantay 2023-07-01                 NaN    swill5          2\n",
       "44  Lewis, Tishantay 2023-07-01  Doeman, Tessanique    tdoem1          2\n",
       "45  Lewis, Tishantay 2023-07-01   Mitchell, Sandsea    usrftz          5\n",
       "46  Lewis, Tishantay 2023-07-01      Harris, Latoya    usrnkv          2\n",
       "47  Lewis, Tishantay 2023-07-01     Barnett, Mikeat    usrnoz          5\n",
       "48  Lewis, Tishantay 2023-07-01       Faucher, Tana    usrppf          2"
      ]
     },
     "execution_count": 13,
     "metadata": {},
     "output_type": "execute_result"
    }
   ],
   "source": [
    "df_count.loc[(df_count['coach'] == 'Lewis, Tishantay') & (df_count['month'] == '2023-07-01')]#['aqm_evals'].sum()"
   ]
  },
  {
   "cell_type": "code",
   "execution_count": null,
   "id": "5a5c54e2-9646-4286-8def-145fde7057ff",
   "metadata": {},
   "outputs": [],
   "source": []
  }
 ],
 "metadata": {
  "kernelspec": {
   "display_name": "Python 3 (ipykernel)",
   "language": "python",
   "name": "python3"
  },
  "language_info": {
   "codemirror_mode": {
    "name": "ipython",
    "version": 3
   },
   "file_extension": ".py",
   "mimetype": "text/x-python",
   "name": "python",
   "nbconvert_exporter": "python",
   "pygments_lexer": "ipython3",
   "version": "3.9.12"
  }
 },
 "nbformat": 4,
 "nbformat_minor": 5
}
