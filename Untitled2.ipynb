{
 "cells": [
  {
   "cell_type": "code",
   "execution_count": 3,
   "id": "b69679df-c32a-465e-ba84-1a61eac8cd64",
   "metadata": {},
   "outputs": [],
   "source": [
    "# %%\n",
    "import pandas as pd\n",
    "from sklearn.ensemble import RandomForestRegressor\n",
    "from sklearn.model_selection import train_test_split"
   ]
  },
  {
   "cell_type": "code",
   "execution_count": 4,
   "id": "c94a68ac-637f-4eb4-8237-56671ffc4e45",
   "metadata": {},
   "outputs": [],
   "source": [
    "# %%\n",
    "# Load the data\n",
    "data_path = 'regression_data.csv'  # replace with your actual path\n",
    "data = pd.read_csv(data_path)"
   ]
  },
  {
   "cell_type": "code",
   "execution_count": 5,
   "id": "a6f0ab89-e703-466b-aca2-0d08a1666a66",
   "metadata": {},
   "outputs": [],
   "source": [
    "# %%\n",
    "# Drop the unnecessary columns\n",
    "data = data.drop(columns=['Unnamed: 0', 'call_date'])"
   ]
  },
  {
   "cell_type": "code",
   "execution_count": 6,
   "id": "2f1fb6db-6b21-4bee-82f2-2ef4c727de57",
   "metadata": {},
   "outputs": [],
   "source": [
    "# Separate the target variable and the features\n",
    "y = data['staffing_requirements']\n",
    "X = data.drop(columns=['staffing_requirements'])"
   ]
  },
  {
   "cell_type": "code",
   "execution_count": 7,
   "id": "94f53b01-016b-46b0-9497-00f105b09b2d",
   "metadata": {},
   "outputs": [],
   "source": [
    "# Split the dataset into a training set and a test set\n",
    "X_train, X_test, y_train, y_test = train_test_split(X, y, test_size=0.2, random_state=42)"
   ]
  },
  {
   "cell_type": "code",
   "execution_count": 8,
   "id": "f5229515-6ea3-49a9-b91a-6bf7284a6626",
   "metadata": {},
   "outputs": [
    {
     "data": {
      "text/plain": [
       "RandomForestRegressor(random_state=42)"
      ]
     },
     "execution_count": 8,
     "metadata": {},
     "output_type": "execute_result"
    }
   ],
   "source": [
    "# %%\n",
    "# Create a Random Forest Regressor model and fit it to the training data\n",
    "model = RandomForestRegressor(random_state=42)\n",
    "model.fit(X_train, y_train)"
   ]
  },
  {
   "cell_type": "code",
   "execution_count": 10,
   "id": "006694a0-7e19-49f1-8b81-49e746beb6c4",
   "metadata": {},
   "outputs": [],
   "source": [
    "# %%\n",
    "# Define the range of changes for each variable\n",
    "sl_goal_changes = range(65, 30, -5)\n",
    "aht_changes = range(0, 151, 30)  # Hypothetical changes to average handle time\n",
    "occupancy_changes = range(0, 41, 5)  # Hypothetical changes to occupancy\n",
    "senior_calls_changes = range(0, 301, 50)  # Hypothetical changes to senior calls\n",
    "\n",
    "# Create a list to hold all scenarios\n",
    "simulations = []\n",
    "\n",
    "\n",
    "# Generate scenarios\n",
    "for sl_goal in sl_goal_changes:\n",
    "    for aht_change in aht_changes:\n",
    "        for occupancy_change in occupancy_changes:\n",
    "            for senior_calls_change in senior_calls_changes:\n",
    "                # Create a copy of the test set\n",
    "                scenario = X_test.copy()\n",
    "                # Adjust the variables\n",
    "                scenario['service_level_percent_to_goal'] = sl_goal / 100\n",
    "                scenario['avg_handle_time'] += aht_change\n",
    "                scenario['occupancy'] += occupancy_change / 100\n",
    "                scenario['senior_calls'] += senior_calls_change\n",
    "                # Make predictions for each scenario\n",
    "                scenario['predicted_staff_requirements'] = model.predict(scenario)\n",
    "                # Add the scenario to the simulations list\n",
    "                simulations.append(scenario)\n",
    "\n",
    "\n",
    "# Combine all scenarios into one DataFrame\n",
    "simulations_df = pd.concat(simulations, ignore_index=True)\n",
    "\n",
    "# Group the simulations by service level goal and calculate the mean staffing requirements\n",
    "simulations_grouped = simulations_df.groupby(['service_level_percent_to_goal', 'avg_handle_time', 'occupancy', 'senior_calls'])['predicted_staff_requirements'].mean()\n",
    "\n",
    "# Convert the grouped object into a DataFrame\n",
    "simulations_grouped_df = simulations_grouped.reset_index()"
   ]
  },
  {
   "cell_type": "code",
   "execution_count": 11,
   "id": "fe1def56-b6cd-4995-9e9e-a6aeeb6b89f3",
   "metadata": {},
   "outputs": [],
   "source": [
    "# %%\n",
    "# Export the resulting DataFrame to a CSV file\n",
    "simulations_grouped_df.to_csv('sensitivity_analysis_results.csv', index=False)"
   ]
  },
  {
   "cell_type": "code",
   "execution_count": null,
   "id": "f0ed028f-e863-442e-8417-686dc69d2156",
   "metadata": {},
   "outputs": [],
   "source": []
  }
 ],
 "metadata": {
  "kernelspec": {
   "display_name": "Python 3 (ipykernel)",
   "language": "python",
   "name": "python3"
  },
  "language_info": {
   "codemirror_mode": {
    "name": "ipython",
    "version": 3
   },
   "file_extension": ".py",
   "mimetype": "text/x-python",
   "name": "python",
   "nbconvert_exporter": "python",
   "pygments_lexer": "ipython3",
   "version": "3.9.12"
  }
 },
 "nbformat": 4,
 "nbformat_minor": 5
}
